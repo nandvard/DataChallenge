{
 "cells": [
  {
   "cell_type": "markdown",
   "metadata": {},
   "source": [
    "# ...Capital One Data Challenge"
   ]
  },
  {
   "cell_type": "markdown",
   "metadata": {},
   "source": [
    "## 2 . IRL - In Real Life\n",
    "\n",
    "*Ideal-Data is an oxymoron.\n",
    "\n",
    "DATA is IRRELEVANT, INCOMPLETE and INCORRECT.  \n",
    "First, we FIND it.  \n",
    "Then FILTER, FILL and FIX.  \n",
    "Finally, FANCY."
   ]
  },
  {
   "cell_type": "code",
   "execution_count": null,
   "metadata": {},
   "outputs": [],
   "source": [
    "import pandas as pd, pandasql, uszipcode, pandas_profiling, plotly, plotly.graph_objs as go, qgrid, plotly_express as px"
   ]
  },
  {
   "cell_type": "code",
   "execution_count": null,
   "metadata": {},
   "outputs": [],
   "source": [
    "# Read Data\n",
    "zillow_df = pd.read_csv('Zip_Zhvi_2bedroom.csv')\n",
    "airbnb_df = pd.read_csv('listings.csv',low_memory=False)"
   ]
  },
  {
   "cell_type": "markdown",
   "metadata": {
    "collapsed": true
   },
   "source": [
    "#### EDA - Exploratory Data Analysis"
   ]
  },
  {
   "cell_type": "code",
   "execution_count": null,
   "metadata": {},
   "outputs": [],
   "source": [
    "# Check Dimensions\n",
    "print('zillow :', zillow_df.shape)\n",
    "print('airbnb :', airbnb_df.shape)"
   ]
  },
  {
   "cell_type": "code",
   "execution_count": null,
   "metadata": {},
   "outputs": [],
   "source": [
    "pd.set_option('display.max_colwidth', 20)\n",
    "pd.set_option('display.max_columns', None)\n",
    "pd.set_option('display.max_rows', None)\n",
    "#pd.reset_option('display.max_colwidth')"
   ]
  },
  {
   "cell_type": "code",
   "execution_count": null,
   "metadata": {},
   "outputs": [],
   "source": [
    "zillow_df.sample(5)"
   ]
  },
  {
   "cell_type": "code",
   "execution_count": null,
   "metadata": {},
   "outputs": [],
   "source": [
    "zillow_df.describe()"
   ]
  },
  {
   "cell_type": "code",
   "execution_count": null,
   "metadata": {},
   "outputs": [],
   "source": [
    "airbnb_df.sample(5)"
   ]
  },
  {
   "cell_type": "code",
   "execution_count": null,
   "metadata": {},
   "outputs": [],
   "source": [
    "airbnb_df.describe()"
   ]
  },
  {
   "cell_type": "markdown",
   "metadata": {
    "collapsed": true
   },
   "source": [
    "#### Clean zillow data"
   ]
  },
  {
   "cell_type": "code",
   "execution_count": null,
   "metadata": {},
   "outputs": [],
   "source": [
    "# FIND relevant columns with missing (INCOMPLETE) values\n",
    "print ('Column        Missing')\n",
    "zillow_df.isnull().sum()"
   ]
  },
  {
   "cell_type": "code",
   "execution_count": null,
   "metadata": {},
   "outputs": [],
   "source": [
    "# Make sure 'City' column is clean\n",
    "zillow_df[['City','RegionID']].groupby('City').count()"
   ]
  },
  {
   "cell_type": "markdown",
   "metadata": {},
   "source": [
    "#### TODO : Machine learning model to predict current (2019) home cost from time-series data.\n",
    "\n",
    "__FOR NOW*__ : Use latest available data (2017)  \n",
    "Housing market can be volatile and using previous years to extrapolate may lead to worse data."
   ]
  },
  {
   "cell_type": "code",
   "execution_count": null,
   "metadata": {},
   "outputs": [],
   "source": [
    "# FILTER out data that is not needed (IRRELEVANT) for analysis\n",
    "# Relevant columns = ZipCode, Cost\n",
    "# Relevant rows = New York city\n",
    "\n",
    "z_cols = ['RegionName', '2017-06']\n",
    "zillow = zillow_df.loc[ zillow_df['City'] == 'New York',\n",
    "                        z_cols ]"
   ]
  },
  {
   "cell_type": "code",
   "execution_count": null,
   "metadata": {},
   "outputs": [],
   "source": [
    "# Format datatypes\n",
    "zillow.reset_index(drop=True,inplace=True)\n",
    "zillow.rename(columns={'RegionName':'zipcode'}, inplace=True)\n",
    "zillow['zipcode'] = zillow['zipcode'].astype(str)\n",
    "zillow['2017-06'] = zillow['2017-06'].astype(int)\n",
    "\n",
    "# Make sure 'ZipCode' and 'Cost' columns are clean\n",
    "zillow[zillow['zipcode'].str.len() != 5]\n",
    "zillow[zillow['2017-06'] < 0]\n",
    "\n",
    "display(print(zillow.shape))\n",
    "zillow"
   ]
  },
  {
   "cell_type": "markdown",
   "metadata": {
    "collapsed": true
   },
   "source": [
    "#### Clean airbnb data"
   ]
  },
  {
   "cell_type": "code",
   "execution_count": null,
   "metadata": {},
   "outputs": [],
   "source": [
    "# FIND relevant columns with missing (INCOMPLETE) values\n",
    "print ('Column        Missing')\n",
    "airbnb_df.isnull().sum()\n",
    "\n",
    "# ZipCode has 517 NULL values (Wait.. don't FIX yet, FILTERing will reduce it)"
   ]
  },
  {
   "cell_type": "code",
   "execution_count": null,
   "metadata": {},
   "outputs": [],
   "source": [
    "# Make sure 'Bedrooms' column is clean\n",
    "airbnb_df[['bedrooms','id']].groupby('bedrooms').count()"
   ]
  },
  {
   "cell_type": "code",
   "execution_count": null,
   "metadata": {},
   "outputs": [],
   "source": [
    "# FILTER out data that is not needed (IRRELEVANT) for analysis\n",
    "# Relevant data = ZipCode,Price,Availability,Reviews\n",
    "# Relevant rows = 2-bedroom properties\n",
    "\n",
    "a_cols = ['neighbourhood_cleansed','neighbourhood_group_cleansed','zipcode','latitude','longitude','price',\n",
    "          'availability_30','availability_60','availability_90','availability_365','number_of_reviews','last_review']\n",
    "\n",
    "airbnb = airbnb_df.loc[ airbnb_df['bedrooms'] == 2,\n",
    "                        a_cols ]"
   ]
  },
  {
   "cell_type": "code",
   "execution_count": null,
   "metadata": {},
   "outputs": [],
   "source": [
    "# Clean & Format datatypes\n",
    "airbnb.reset_index(drop=True,inplace=True)\n",
    "airbnb['price'] = airbnb['price'].str.replace('\\$|,|\\.00','').astype(int)\n",
    "airbnb['last_review'] = pd.to_datetime(airbnb['last_review'])\n",
    "airbnb['latitude'] = airbnb['latitude'].astype(float)\n",
    "airbnb['longitude'] = airbnb['longitude'].astype(float)\n",
    "\n",
    "# Make sure 'ZipCode' and 'Price' columns are clean\n",
    "airbnb[airbnb['zipcode'].str.len() != 5] # No need to FIX those 8 records found earlier. All were filtered out.\n",
    "airbnb[airbnb['price'] < 0]\n",
    "\n",
    "display(print(airbnb.shape))\n",
    "airbnb.sample(10)"
   ]
  },
  {
   "cell_type": "code",
   "execution_count": null,
   "metadata": {},
   "outputs": [],
   "source": [
    "# FIND NULL (INCOMPLETE) zip codes\n",
    "null_zip = airbnb.loc[airbnb['zipcode'].isnull(),['zipcode','latitude','longitude']]\n",
    "\n",
    "# No need to FILL all those 517 records found earlier. Only 50 remain\n",
    "print (null_zip.shape)"
   ]
  },
  {
   "cell_type": "markdown",
   "metadata": {},
   "source": [
    "#### EXTERNAL DATA - US zip code database"
   ]
  },
  {
   "cell_type": "code",
   "execution_count": null,
   "metadata": {},
   "outputs": [],
   "source": [
    "# FILL INCOMPLETE data\n",
    "# search by latitude and longitude to get zip code\n",
    "airbnb.loc[airbnb['zipcode'].isnull(),['zipcode']] = [uszipcode.SearchEngine().by_coordinates(lat,lon)[0].values()[0] \n",
    "                                                        for lat,lon in zip(null_zip['latitude'],null_zip['longitude'])]\n",
    "\n",
    "# No NULL zip codes\n",
    "airbnb[airbnb['zipcode'].isnull()]"
   ]
  },
  {
   "cell_type": "markdown",
   "metadata": {},
   "source": [
    "#### TODO : Function to estimate availability of property, calculate yearly revenue, and increase in rent over time.\n",
    "\n",
    "__FOR-NOW__ : Estimate simple average of 30-day, 60-day, 90-day & 365-day availability from calendar"
   ]
  },
  {
   "cell_type": "code",
   "execution_count": null,
   "metadata": {},
   "outputs": [],
   "source": [
    "airbnb['availability_year'] = (airbnb['availability_30']*12 +\n",
    "                               airbnb['availability_60']*6 +\n",
    "                               airbnb['availability_90']*3 +\n",
    "                               airbnb['availability_365'])/4"
   ]
  },
  {
   "cell_type": "markdown",
   "metadata": {
    "collapsed": true
   },
   "source": [
    "#### Visual EDA\n"
   ]
  },
  {
   "cell_type": "code",
   "execution_count": null,
   "metadata": {},
   "outputs": [],
   "source": [
    "pandas_profiling.ProfileReport(zillow)"
   ]
  },
  {
   "cell_type": "code",
   "execution_count": null,
   "metadata": {},
   "outputs": [],
   "source": [
    "pandas_profiling.ProfileReport(airbnb)"
   ]
  },
  {
   "cell_type": "code",
   "execution_count": null,
   "metadata": {},
   "outputs": [],
   "source": [
    "# Individual datasets were cleaned\n",
    "# Check if joining datasets causes loss of information\n",
    "print ('zipcodes - zillow:',len(zillow['zipcode'].unique()),' , airbnb:',len(airbnb['zipcode'].unique()))"
   ]
  },
  {
   "cell_type": "code",
   "execution_count": null,
   "metadata": {},
   "outputs": [],
   "source": [
    "query = \"\"\"\n",
    "select zipcode from zillow\n",
    "INTERSECT\n",
    "select zipcode from airbnb\n",
    "\"\"\"\n",
    "\n",
    "# 24 zip codes in common\n",
    "pandasql.sqldf(query)"
   ]
  },
  {
   "cell_type": "markdown",
   "metadata": {},
   "source": [
    "Out of 25, 24 zip codes from Zillow are in AirBnB.  \n",
    "Can we try to get additional data from AirBnB regarding the 1 zip code ? Not worth effort.\n",
    "\n",
    "Out of 171, only 24 zip codes from AirBnB are in Zillow.  \n",
    "Can we try to get additional data from Zillow regarding the 147 zip codes ? __YES__\n",
    "\n",
    "#### EXTERNAL DATA - https://www.zillow.com/market-report/08-19/6181/new-york-ny.xls?rt=7\n",
    "\n",
    "Sheet 'Two Bed' contains median 2019 'List Price'  \n",
    "It's a better estimate of 2019 home cost than 2017 cost, and it also additional zip code data\n"
   ]
  },
  {
   "cell_type": "code",
   "execution_count": null,
   "metadata": {},
   "outputs": [],
   "source": [
    "zillow_list = pd.read_csv('zillow_listprice.csv')"
   ]
  },
  {
   "cell_type": "code",
   "execution_count": null,
   "metadata": {},
   "outputs": [],
   "source": [
    "# Join new and old zillow datasets to FILL INCOMPLETE & FIX INCORRECT data\n",
    "query = \"\"\"\n",
    "-- Use 2019 List Price. If the data doesn't exist, use 2017 cost\n",
    "select z.zipcode, ifnull(cast(zl.listprice as int),z.[2017-06]) AS [2019_Cost]\n",
    "from zillow z\n",
    "left join zillow_list zl on z.zipcode = zl.zipcode\n",
    "UNION\n",
    "select zl.zipcode,cast(zl.listprice as int)\n",
    "from zillow_list zl\n",
    "left join zillow z on z.zipcode = zl.zipcode\n",
    "where z.zipcode IS NULL and zl.listprice IS NOT NULL\n",
    "\"\"\"\n",
    "\n",
    "zillow_new = pandasql.sqldf(query)\n",
    "zillow_new"
   ]
  },
  {
   "cell_type": "code",
   "execution_count": null,
   "metadata": {},
   "outputs": [],
   "source": [
    "query = \"\"\"\n",
    "select zipcode from zillow_new\n",
    "INTERSECT\n",
    "select zipcode from airbnb\n",
    "\"\"\"\n",
    "\n",
    "# 44 zip codes in common, up from 24 earlier. \n",
    "pandasql.sqldf(query)"
   ]
  },
  {
   "cell_type": "markdown",
   "metadata": {},
   "source": [
    "### JOIN & FILTER"
   ]
  },
  {
   "cell_type": "code",
   "execution_count": null,
   "metadata": {},
   "outputs": [],
   "source": [
    "# Similar to Part 1\n",
    "\n",
    "query = \"\"\"\n",
    "SELECT\n",
    "    a.zipcode as ZipCode,\n",
    "    neighbourhood_group_cleansed AS Area,\n",
    "    count(price) AS Properties,\n",
    "    sum(number_of_reviews) AS Reviews,\n",
    "    [2019_Cost] AS [Cost$],\n",
    "    (365-AVG(availability_year))*100/365 AS [Occupancy%],  -- Occupancy is inverse of Availability\n",
    "    (cast(AVG(price) * (365-AVG(availability_year)) as int))/100*100 AS [Revenue$/Year],\n",
    "    round([2019_Cost]/(AVG(price) * 365 * .75),2) AS BreakEven_Years,\n",
    "    \n",
    "    -- Plotting Data\n",
    "    avg(latitude) AS latitude,\n",
    "    avg(longitude) AS longitude,\n",
    "    'ZipCode : ' || a.zipcode || ' . Area : ' || neighbourhood_group_cleansed AS text\n",
    "FROM\n",
    "    airbnb a\n",
    "JOIN\n",
    "    zillow_new z ON a.zipcode = z.zipcode\n",
    "WHERE 1=1\n",
    "    AND a.number_of_reviews > 1\n",
    "    AND a.last_review > date('now','-1 years')\n",
    "    --AND a.availability_365 not in (0,365)\n",
    "GROUP BY\n",
    "    a.zipcode\n",
    "HAVING\n",
    "    Properties > 1\n",
    "ORDER BY\n",
    "    BreakEven_Years\n",
    "\"\"\"\n",
    "\n",
    "az = pandasql.sqldf(query)"
   ]
  },
  {
   "cell_type": "code",
   "execution_count": null,
   "metadata": {},
   "outputs": [],
   "source": [
    "# Interactive Grid\n",
    "qgrid.show_grid(az.loc[:, 'ZipCode':'BreakEven_Years'])\n",
    "\n",
    "# Fiddle around with Filters below"
   ]
  },
  {
   "cell_type": "code",
   "execution_count": null,
   "metadata": {},
   "outputs": [],
   "source": [
    "# Plotly offline mode. No need for API token\n",
    "plotly.offline.init_notebook_mode()"
   ]
  },
  {
   "cell_type": "markdown",
   "metadata": {},
   "source": [
    "### FANCY\n"
   ]
  },
  {
   "cell_type": "code",
   "execution_count": null,
   "metadata": {},
   "outputs": [],
   "source": [
    "az.sort_values(by=['Cost$'],inplace=True)\n",
    "fig = go.Figure(\n",
    "    [go.Bar(name='Total Cost', x=az['ZipCode'], y=az['Cost$']),\n",
    "     go.Bar(name='Yearly Revenue', x=az['ZipCode'], y=az['Revenue$/Year']),\n",
    "    ],\n",
    "    go.Layout(barmode='stack',\n",
    "              xaxis=dict(type='category',title='Zip Code'),\n",
    "              yaxis=dict(title='Cost & Revenue'),\n",
    "              title = 'Cost-Revenue')\n",
    ")\n",
    "\n",
    "fig.show()"
   ]
  },
  {
   "cell_type": "code",
   "execution_count": null,
   "metadata": {},
   "outputs": [],
   "source": [
    "fig = px.scatter(az, x=\"Revenue$/Year\", y=\"BreakEven_Years\", color=\"Properties\", size=\"Cost$\",\n",
    "                             hover_data=['Cost$','Area','ZipCode'],\n",
    "                             title='ROI Quadrant : Bottom-Right - High Revenue & Quick BreakEven')\n",
    "fig.show()"
   ]
  },
  {
   "cell_type": "markdown",
   "metadata": {},
   "source": [
    "#### TODO : Add quadrant dividing lines, labels and column filters in plot"
   ]
  },
  {
   "cell_type": "code",
   "execution_count": null,
   "metadata": {},
   "outputs": [],
   "source": [
    "\n",
    "fig = px.scatter_geo(az, lat=\"latitude\",lon=\"longitude\", size=\"Properties\",\n",
    "                     scope=\"usa\", color = \"BreakEven_Years\", hover_data=['Cost$','Revenue$/Year','Area','ZipCode'])\n",
    "fig.show()\n"
   ]
  },
  {
   "cell_type": "markdown",
   "metadata": {},
   "source": [
    "### COMMERCIAL (FREE TIER) PLOTS\n",
    "\n",
    "#### 1 . MAPBOX"
   ]
  },
  {
   "cell_type": "code",
   "execution_count": null,
   "metadata": {},
   "outputs": [],
   "source": [
    "px.set_mapbox_access_token('pk.eyJ1Ijoic3FsZGJhIiwiYSI6ImNqeXg2OG1sZzBqczYzZG83N2FncGVobDIifQ.7yljGwjF4bJnx9JHaa1BIg')\n",
    "\n",
    "fig = px.scatter_mapbox(az, lat=\"latitude\", lon=\"longitude\",  color=\"BreakEven_Years\", size=\"Properties\",\n",
    "                  color_continuous_scale=px.colors.cyclical.IceFire, size_max=25, zoom=10)\n",
    "fig.show()"
   ]
  },
  {
   "cell_type": "markdown",
   "metadata": {},
   "source": [
    "#### 2 . TABLEAU\n",
    "\n",
    "Interactive, Filter-able map plot:  \n",
    "https://public.tableau.com/views/cap1airbnbzillow/Invest  \n",
    "(Private-Visibilty)"
   ]
  },
  {
   "cell_type": "markdown",
   "metadata": {},
   "source": [
    "***\n",
    "\n",
    "## SUMMARY\n",
    "\n",
    "#### A data product was created to find profitable rental investment locations in New York city.\n",
    "\n",
    "#### Assumptions :\n",
    "\n",
    "1. Rent Price and Home Value remain constant.\n",
    "3. Additional fees revenue and Routine maintenance cost ignored\n",
    "\n",
    "#### Data Cleaning :\n",
    "1. AirBnB missing zip codes calculated from latitude/longitude data\n",
    "2. Additional Zillow zip codes data obtained from website\n",
    "\n",
    "#### Data Munging :\n",
    "1. New metric 'Availability' created as the average of 30,60,90 & 365 availability\n",
    "2. Yearly revenue calculated using daily rent price, and 'averaged' by zip code to match 'median' cost data\n",
    "\n",
    "#### Data Visualization :\n",
    "1. Interactive grid containing profit metrics displayed for user self-service\n",
    "2. Interactive box, scatter and map plots created for easy visual analysis\n",
    "\n",
    "\n",
    "#### Recommendation:\n",
    "1. zip codes 10025 & 10022 are good investment locations in a high-end established market like Manhattan, while 10021 is not.\n",
    "2. zip codes 11434 & 11375 are good investment locations in a low-end new market like Queens, while 11374 is not\n",
    "\n",
    "#### Future:\n",
    "1. Look at TODO items\n",
    "2. Look into regulatory issues related to housing & rent-control\n",
    "\n",
    "#### References:\n",
    "1. https://www.zillow.com/research/data/\n",
    "2. https://www.redfin.com/blog/data-center/\n",
    "3. http://insideairbnb.com/get-the-data.html\n",
    "4. http://tomslee.net/category/airbnb-data"
   ]
  },
  {
   "cell_type": "markdown",
   "metadata": {},
   "source": [
    "d-_-b"
   ]
  }
 ],
 "metadata": {
  "kernelspec": {
   "display_name": "Python 3",
   "language": "python",
   "name": "python3"
  },
  "language_info": {
   "codemirror_mode": {
    "name": "ipython",
    "version": 3
   },
   "file_extension": ".py",
   "mimetype": "text/x-python",
   "name": "python",
   "nbconvert_exporter": "python",
   "pygments_lexer": "ipython3",
   "version": "3.7.3"
  }
 },
 "nbformat": 4,
 "nbformat_minor": 2
}
