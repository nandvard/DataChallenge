{
 "cells": [
  {
   "cell_type": "markdown",
   "metadata": {},
   "source": [
    "# Capital One Data Challenge\n",
    "\n",
    "__Statement of Work__:  \n",
    "Real Estate company wants to invest in 2-bedroom rental properties in New York.  \n",
    "Using data from Zillow and AirBnB, find the most profitable zip codes for investment.\n",
    "\n",
    "----\n",
    "\n",
    "Zillow - home cost data  \n",
    "AirBnB - rent revenue data\n",
    "\n",
    "Normally, Profit = Revenue - Cost\n",
    "\n",
    "But:\n",
    "- Home cost is large & one-time . Data is aggregated, but not current.\n",
    "- Rent revenue is small & recurring . Data is current, but not aggregated.\n",
    "\n",
    "So:\n",
    "- estimate current home cost using previous years\n",
    "- aggregate rent revenue by zipcode and estimate per year\n",
    "- join datasets and filter New York & 2-bed properties\n",
    "- sort by break-even years (cost/revenue ratio)\n",
    "\n",
    "Assuming Ideal-Data*, code looks like:\n",
    "> SELECT  \n",
    "\tZipCode,  \n",
    "\tz.Total_Cost,  \n",
    "\ta.Revenue_Per_Year,  \n",
    "\tTotal_Cost / Revenue_Per_Year AS BreakEven_Years  \n",
    "FROM\tAirbnb a  \n",
    "JOIN \tZillow z on a.zipcode = z.zipcode  \n",
    "WHERE  \n",
    "\ta.Bedrooms = 2 AND z.City = 'New York'  \n",
    "ORDER BY  \n",
    "\tBreakEven_Years  \n",
    "\n",
    "----"
   ]
  },
  {
   "cell_type": "markdown",
   "metadata": {},
   "source": [
    "## 1 . KISS - Keep It Short & Simple\n",
    "\n",
    "#### No data cleaning or estimation - discard bad data and use available data"
   ]
  },
  {
   "cell_type": "code",
   "execution_count": null,
   "metadata": {},
   "outputs": [],
   "source": [
    "import pandas, pandasql, qgrid, plotly, plotly_express\n",
    "\n",
    "# Read Data\n",
    "zillow = pandas.read_csv('Zip_Zhvi_2bedroom.csv')\n",
    "airbnb = pandas.read_csv('listings.csv',low_memory=False)\n",
    "\n",
    "# Clean & Format datatypes\n",
    "zillow['RegionName'] = zillow['RegionName'].astype(str)\n",
    "zillow['2017-06'] = zillow['2017-06'].astype(int)\n",
    "airbnb['price'] = airbnb['price'].str.replace('\\$|,|\\.00','').astype(int)\n",
    "airbnb['last_review'] = pandas.to_datetime(airbnb['last_review'])\n",
    "\n",
    "# SQL Query\n",
    "query = \"\"\"\n",
    "SELECT\n",
    "    zipcode,\n",
    "    neighbourhood_group_cleansed AS Area,\n",
    "\n",
    "    count(price) AS Properties,  -- no. of properties, to find popular areas\n",
    "    sum(number_of_reviews) AS Reviews,  -- no. of reviews, to find popular properties\n",
    "    \n",
    "    [2017-06] AS [Cost$],  -- use 2017 cost\n",
    "    (cast(AVG(price) * 365 * .75 as int))/100*100 AS [Revenue$/Year],  -- use daily price and 75% occupancy\n",
    "    \n",
    "    round([2017-06]/(AVG(price) * 365 * .75),2) AS BreakEven_Years\n",
    "FROM\n",
    "    airbnb a\n",
    "JOIN\n",
    "    zillow z ON a.zipcode = z.RegionName\n",
    "WHERE 1=1\n",
    "    AND a.bedrooms = 2 AND z.city = 'New York'  -- filter client requirements\n",
    "\n",
    "    AND a.number_of_reviews > 2 AND a.last_review > date('now','-2 years')  -- filter popular properties\n",
    "GROUP BY\n",
    "    zipcode\n",
    "HAVING\n",
    "    Properties > 2  -- filter popular areas\n",
    "ORDER BY\n",
    "    BreakEven_Years\n",
    "\"\"\"\n",
    "\n",
    "az = pandasql.sqldf(query)\n",
    "\n",
    "# Interactive Grid\n",
    "display(qgrid.show_grid(az)) \n",
    "\n",
    "\n",
    "plotly.offline.init_notebook_mode()\n",
    "# ROI Quadrant\n",
    "fig = plotly_express.scatter(az, x=\"Revenue$/Year\", y=\"BreakEven_Years\", color=\"Properties\", size=\"Cost$\",\n",
    "                             hover_data=['Cost$','Area','zipcode'],\n",
    "                             title='ROI Quadrant : Bottom-Right - High Revenue & Quick BreakEven')\n",
    "fig.show()"
   ]
  },
  {
   "cell_type": "markdown",
   "metadata": {},
   "source": [
    "### TL;DR - Too Long; Didn't Read\n",
    "\n",
    "__Popular market__ : Invest `$`2 million in a Manhattan __10022__ property. Earn `$`125K/year in rent. Break Even in 15 years.  \n",
    "    OR  \n",
    "__Niche market__ : Invest `$`400K in Queens __11434__. Earn `$`40K/year. Break Even in 12 years.  \n",
    "\n",
    "#### WARNING: Invest at your own risk. Data subject to change. Filter conditions are subjective."
   ]
  },
  {
   "cell_type": "code",
   "execution_count": null,
   "metadata": {},
   "outputs": [],
   "source": [
    "# Part 2 .. continued in cap1_irl"
   ]
  }
 ],
 "metadata": {
  "kernelspec": {
   "display_name": "Python 3",
   "language": "python",
   "name": "python3"
  },
  "language_info": {
   "codemirror_mode": {
    "name": "ipython",
    "version": 3
   },
   "file_extension": ".py",
   "mimetype": "text/x-python",
   "name": "python",
   "nbconvert_exporter": "python",
   "pygments_lexer": "ipython3",
   "version": "3.7.3"
  }
 },
 "nbformat": 4,
 "nbformat_minor": 2
}
